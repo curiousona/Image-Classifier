{
 "cells": [
  {
   "cell_type": "markdown",
   "metadata": {},
   "source": [
    "## Prepare the workspace"
   ]
  },
  {
   "cell_type": "code",
   "execution_count": 1,
   "metadata": {},
   "outputs": [],
   "source": [
    "# Before you proceed, update the PATH\n",
    "import os\n",
    "os.environ['PATH'] = f\"{os.environ['PATH']}:/root/.local/bin\"\n",
    "os.environ['PATH'] = f\"{os.environ['PATH']}:/opt/conda/lib/python3.6/site-packages\"\n",
    "# Restart the Kernel at this point. \n",
    "\n"
   ]
  },
  {
   "cell_type": "code",
   "execution_count": 2,
   "metadata": {},
   "outputs": [
    {
     "name": "stdout",
     "output_type": "stream",
     "text": [
      "Defaulting to user installation because normal site-packages is not writeable\n",
      "\u001b[31mERROR: Could not find a version that satisfies the requirement torch==1.0.0 (from versions: 1.11.0, 1.12.0, 1.12.1, 1.13.0, 1.13.1, 2.0.0, 2.0.1, 2.1.0, 2.1.1, 2.1.2)\u001b[0m\u001b[31m\n",
      "\u001b[0m\u001b[31mERROR: No matching distribution found for torch==1.0.0\u001b[0m\u001b[31m\n",
      "\u001b[0m"
     ]
    }
   ],
   "source": [
    "# Do not execute the commands below unless you have restart the Kernel after updating the PATH. \n",
    "!python -m pip install torch==1.0.0"
   ]
  },
  {
   "cell_type": "code",
   "execution_count": 3,
   "metadata": {},
   "outputs": [
    {
     "name": "stdout",
     "output_type": "stream",
     "text": [
      "2.0.1\n",
      "False\n"
     ]
    }
   ],
   "source": [
    "# Check torch version and CUDA status if GPU is enabled.\n",
    "import torch\n",
    "print(torch.__version__)\n",
    "print(torch.cuda.is_available()) # Should return True when GPU is enabled. "
   ]
  },
  {
   "cell_type": "markdown",
   "metadata": {},
   "source": [
    "# Developing an AI application\n",
    "\n",
    "Going forward, AI algorithms will be incorporated into more and more everyday applications. For example, you might want to include an image classifier in a smart phone app. To do this, you'd use a deep learning model trained on hundreds of thousands of images as part of the overall application architecture. A large part of software development in the future will be using these types of models as common parts of applications. \n",
    "\n",
    "In this project, you'll train an image classifier to recognize different species of flowers. You can imagine using something like this in a phone app that tells you the name of the flower your camera is looking at. In practice you'd train this classifier, then export it for use in your application. We'll be using [this dataset](http://www.robots.ox.ac.uk/~vgg/data/flowers/102/index.html) of 102 flower categories, you can see a few examples below. \n",
    "\n",
    "<img src='assets/Flowers.png' width=500px>\n",
    "\n",
    "The project is broken down into multiple steps:\n",
    "\n",
    "* Load and preprocess the image dataset\n",
    "* Train the image classifier on your dataset\n",
    "* Use the trained classifier to predict image content\n",
    "\n",
    "We'll lead you through each part which you'll implement in Python.\n",
    "\n",
    "When you've completed this project, you'll have an application that can be trained on any set of labeled images. Here your network will be learning about flowers and end up as a command line application. But, what you do with your new skills depends on your imagination and effort in building a dataset. For example, imagine an app where you take a picture of a car, it tells you what the make and model is, then looks up information about it. Go build your own dataset and make something new.\n",
    "\n",
    "First up is importing the packages you'll need. It's good practice to keep all the imports at the beginning of your code. As you work through this notebook and find you need to import a package, make sure to add the import up here."
   ]
  },
  {
   "cell_type": "code",
   "execution_count": 4,
   "metadata": {},
   "outputs": [],
   "source": [
    "# Imports here\n",
    "import torch\n",
    "from torch import nn\n",
    "from torch import optim\n",
    "import torch.nn.functional as F\n",
    "from torchvision import datasets, transforms, models"
   ]
  },
  {
   "cell_type": "code",
   "execution_count": 5,
   "metadata": {},
   "outputs": [],
   "source": [
    "device=\"cuda\""
   ]
  },
  {
   "cell_type": "markdown",
   "metadata": {},
   "source": [
    "## Load the data\n",
    "\n",
    "Here you'll use `torchvision` to load the data ([documentation](http://pytorch.org/docs/0.3.0/torchvision/index.html)). The data should be included alongside this notebook, otherwise you can [download it here](https://s3.amazonaws.com/content.udacity-data.com/nd089/flower_data.tar.gz). "
   ]
  },
  {
   "cell_type": "markdown",
   "metadata": {},
   "source": [
    "If you do not find the `flowers/` dataset in the current directory, **/workspace/home/aipnd-project/**, you can download it using the following commands. \n",
    "\n",
    "```bash\n",
    "!wget 'https://s3.amazonaws.com/content.udacity-data.com/nd089/flower_data.tar.gz'\n",
    "!unlink flowers\n",
    "!mkdir flowers && tar -xzf flower_data.tar.gz -C flowers\n",
    "```\n"
   ]
  },
  {
   "cell_type": "markdown",
   "metadata": {},
   "source": [
    "## Data Description\n",
    "The dataset is split into three parts, training, validation, and testing. For the training, you'll want to apply transformations such as random scaling, cropping, and flipping. This will help the network generalize leading to better performance. You'll also need to make sure the input data is resized to 224x224 pixels as required by the pre-trained networks.\n",
    "\n",
    "The validation and testing sets are used to measure the model's performance on data it hasn't seen yet. For this you don't want any scaling or rotation transformations, but you'll need to resize then crop the images to the appropriate size.\n",
    "\n",
    "The pre-trained networks you'll use were trained on the ImageNet dataset where each color channel was normalized separately. For all three sets you'll need to normalize the means and standard deviations of the images to what the network expects. For the means, it's `[0.485, 0.456, 0.406]` and for the standard deviations `[0.229, 0.224, 0.225]`, calculated from the ImageNet images.  These values will shift each color channel to be centered at 0 and range from -1 to 1.\n",
    " "
   ]
  },
  {
   "cell_type": "code",
   "execution_count": 6,
   "metadata": {},
   "outputs": [],
   "source": [
    "data_dir = 'flowers'\n",
    "train_dir = data_dir + '/train'\n",
    "valid_dir = data_dir + '/valid'\n",
    "test_dir = data_dir + '/test'"
   ]
  },
  {
   "cell_type": "code",
   "execution_count": 7,
   "metadata": {},
   "outputs": [],
   "source": [
    "# TODO: Define your transforms for the training, validation, and testing sets\n",
    "data_transforms = {\n",
    "    'train': transforms.Compose([\n",
    "        transforms.RandomResizedCrop(224),\n",
    "        transforms.RandomHorizontalFlip(),\n",
    "        transforms.ToTensor(),\n",
    "        transforms.Normalize(mean=[0.485, 0.456, 0.406], std=[0.229, 0.224, 0.225])\n",
    "    ]),\n",
    "    'valid': transforms.Compose([\n",
    "        transforms.Resize(256),\n",
    "        transforms.CenterCrop(224),\n",
    "        transforms.ToTensor(),\n",
    "        transforms.Normalize(mean=[0.485, 0.456, 0.406], std=[0.229, 0.224, 0.225])\n",
    "    ]),\n",
    "    'test': transforms.Compose([\n",
    "        transforms.Resize(256),\n",
    "        transforms.CenterCrop(224),\n",
    "        transforms.ToTensor(),\n",
    "        transforms.Normalize(mean=[0.485, 0.456, 0.406], std=[0.229, 0.224, 0.225])\n",
    "    ])\n",
    "}\n",
    "\n",
    "\n",
    "# TODO: Load the datasets with ImageFolder\n",
    "test_data=datasets.ImageFolder(test_dir,transform=data_transforms['test'])\n",
    "train_data=datasets.ImageFolder(train_dir,transform=data_transforms['train'])\n",
    "val_data=datasets.ImageFolder(valid_dir, transform=data_transforms['valid'])\n",
    "\n",
    "image_datasets = [ train_data, test_data ,val_data]\n",
    "\n",
    "# TODO: Using the image datasets and the trainforms, define the dataloaders\n",
    "trainloader = torch.utils.data.DataLoader(train_data, batch_size=16, shuffle=True)\n",
    "testloader=torch.utils.data.DataLoader(test_data, batch_size=16, shuffle=True)\n",
    "valloader=torch.utils.data.DataLoader(val_data, batch_size=16, shuffle=True)\n",
    "\n",
    "dataloaders = [trainloader, testloader, valloader]"
   ]
  },
  {
   "cell_type": "markdown",
   "metadata": {},
   "source": [
    "### Label mapping\n",
    "\n",
    "You'll also need to load in a mapping from category label to category name. You can find this in the file `cat_to_name.json`. It's a JSON object which you can read in with the [`json` module](https://docs.python.org/2/library/json.html). This will give you a dictionary mapping the integer encoded categories to the actual names of the flowers."
   ]
  },
  {
   "cell_type": "code",
   "execution_count": 8,
   "metadata": {},
   "outputs": [],
   "source": [
    "import json\n",
    "\n",
    "with open('cat_to_name.json', 'r') as f:\n",
    "    cat_to_name = json.load(f)"
   ]
  },
  {
   "cell_type": "code",
   "execution_count": 9,
   "metadata": {},
   "outputs": [
    {
     "name": "stdout",
     "output_type": "stream",
     "text": [
      "{'21': 'fire lily', '3': 'canterbury bells', '45': 'bolero deep blue', '1': 'pink primrose', '34': 'mexican aster', '27': 'prince of wales feathers', '7': 'moon orchid', '16': 'globe-flower', '25': 'grape hyacinth', '26': 'corn poppy', '79': 'toad lily', '39': 'siam tulip', '24': 'red ginger', '67': 'spring crocus', '35': 'alpine sea holly', '32': 'garden phlox', '10': 'globe thistle', '6': 'tiger lily', '93': 'ball moss', '33': 'love in the mist', '9': 'monkshood', '102': 'blackberry lily', '14': 'spear thistle', '19': 'balloon flower', '100': 'blanket flower', '13': 'king protea', '49': 'oxeye daisy', '15': 'yellow iris', '61': 'cautleya spicata', '31': 'carnation', '64': 'silverbush', '68': 'bearded iris', '63': 'black-eyed susan', '69': 'windflower', '62': 'japanese anemone', '20': 'giant white arum lily', '38': 'great masterwort', '4': 'sweet pea', '86': 'tree mallow', '101': 'trumpet creeper', '42': 'daffodil', '22': 'pincushion flower', '2': 'hard-leaved pocket orchid', '54': 'sunflower', '66': 'osteospermum', '70': 'tree poppy', '85': 'desert-rose', '99': 'bromelia', '87': 'magnolia', '5': 'english marigold', '92': 'bee balm', '28': 'stemless gentian', '97': 'mallow', '57': 'gaura', '40': 'lenten rose', '47': 'marigold', '59': 'orange dahlia', '48': 'buttercup', '55': 'pelargonium', '36': 'ruby-lipped cattleya', '91': 'hippeastrum', '29': 'artichoke', '71': 'gazania', '90': 'canna lily', '18': 'peruvian lily', '98': 'mexican petunia', '8': 'bird of paradise', '30': 'sweet william', '17': 'purple coneflower', '52': 'wild pansy', '84': 'columbine', '12': \"colt's foot\", '11': 'snapdragon', '96': 'camellia', '23': 'fritillary', '50': 'common dandelion', '44': 'poinsettia', '53': 'primula', '72': 'azalea', '65': 'californian poppy', '80': 'anthurium', '76': 'morning glory', '37': 'cape flower', '56': 'bishop of llandaff', '60': 'pink-yellow dahlia', '82': 'clematis', '58': 'geranium', '75': 'thorn apple', '41': 'barbeton daisy', '95': 'bougainvillea', '43': 'sword lily', '83': 'hibiscus', '78': 'lotus lotus', '88': 'cyclamen', '94': 'foxglove', '81': 'frangipani', '74': 'rose', '89': 'watercress', '73': 'water lily', '46': 'wallflower', '77': 'passion flower', '51': 'petunia'}\n"
     ]
    }
   ],
   "source": [
    "print(cat_to_name)"
   ]
  },
  {
   "cell_type": "markdown",
   "metadata": {},
   "source": [
    "# Building and training the classifier\n",
    "\n",
    "Now that the data is ready, it's time to build and train the classifier. As usual, you should use one of the pretrained models from `torchvision.models` to get the image features. Build and train a new feed-forward classifier using those features.\n",
    "\n",
    "We're going to leave this part up to you. Refer to [the rubric](https://review.udacity.com/#!/rubrics/1663/view) for guidance on successfully completing this section. Things you'll need to do:\n",
    "\n",
    "* Load a [pre-trained network](http://pytorch.org/docs/master/torchvision/models.html) (If you need a starting point, the VGG networks work great and are straightforward to use)\n",
    "* Define a new, untrained feed-forward network as a classifier, using ReLU activations and dropout\n",
    "* Train the classifier layers using backpropagation using the pre-trained network to get the features\n",
    "* Track the loss and accuracy on the validation set to determine the best hyperparameters\n",
    "\n",
    "We've left a cell open for you below, but use as many as you need. Our advice is to break the problem up into smaller parts you can run separately. Check that each part is doing what you expect, then move on to the next. You'll likely find that as you work through each part, you'll need to go back and modify your previous code. This is totally normal!\n",
    "\n",
    "When training make sure you're updating only the weights of the feed-forward network. You should be able to get the validation accuracy above 70% if you build everything right. Make sure to try different hyperparameters (learning rate, units in the classifier, epochs, etc) to find the best model. Save those hyperparameters to use as default values in the next part of the project.\n",
    "\n",
    "One last important tip if you're using the workspace to run your code: To avoid having your workspace disconnect during the long-running tasks in this notebook, please read in the earlier page in this lesson called Intro to\n",
    "GPU Workspaces about Keeping Your Session Active. You'll want to include code from the workspace_utils.py module.\n",
    "\n",
    "## Note for Workspace users: \n",
    "If your network is over 1 GB when saved as a checkpoint, there might be issues with saving backups in your workspace. Typically this happens with wide dense layers after the convolutional layers. If your saved checkpoint is larger than 1 GB (you can open a terminal and check with `ls -lh`), you should reduce the size of your hidden layers and train again."
   ]
  },
  {
   "cell_type": "code",
   "execution_count": 10,
   "metadata": {},
   "outputs": [
    {
     "name": "stderr",
     "output_type": "stream",
     "text": [
      "/opt/conda/lib/python3.10/site-packages/torchvision/models/_utils.py:208: UserWarning: The parameter 'pretrained' is deprecated since 0.13 and may be removed in the future, please use 'weights' instead.\n",
      "  warnings.warn(\n",
      "/opt/conda/lib/python3.10/site-packages/torchvision/models/_utils.py:223: UserWarning: Arguments other than a weight enum or `None` for 'weights' are deprecated since 0.13 and may be removed in the future. The current behavior is equivalent to passing `weights=VGG19_Weights.IMAGENET1K_V1`. You can also use `weights=VGG19_Weights.DEFAULT` to get the most up-to-date weights.\n",
      "  warnings.warn(msg)\n",
      "Downloading: \"https://download.pytorch.org/models/vgg19-dcbb9e9d.pth\" to /home/student/.cache/torch/hub/checkpoints/vgg19-dcbb9e9d.pth\n",
      "100%|██████████| 548M/548M [00:02<00:00, 264MB/s]  \n"
     ]
    },
    {
     "data": {
      "text/plain": [
       "VGG(\n",
       "  (features): Sequential(\n",
       "    (0): Conv2d(3, 64, kernel_size=(3, 3), stride=(1, 1), padding=(1, 1))\n",
       "    (1): ReLU(inplace=True)\n",
       "    (2): Conv2d(64, 64, kernel_size=(3, 3), stride=(1, 1), padding=(1, 1))\n",
       "    (3): ReLU(inplace=True)\n",
       "    (4): MaxPool2d(kernel_size=2, stride=2, padding=0, dilation=1, ceil_mode=False)\n",
       "    (5): Conv2d(64, 128, kernel_size=(3, 3), stride=(1, 1), padding=(1, 1))\n",
       "    (6): ReLU(inplace=True)\n",
       "    (7): Conv2d(128, 128, kernel_size=(3, 3), stride=(1, 1), padding=(1, 1))\n",
       "    (8): ReLU(inplace=True)\n",
       "    (9): MaxPool2d(kernel_size=2, stride=2, padding=0, dilation=1, ceil_mode=False)\n",
       "    (10): Conv2d(128, 256, kernel_size=(3, 3), stride=(1, 1), padding=(1, 1))\n",
       "    (11): ReLU(inplace=True)\n",
       "    (12): Conv2d(256, 256, kernel_size=(3, 3), stride=(1, 1), padding=(1, 1))\n",
       "    (13): ReLU(inplace=True)\n",
       "    (14): Conv2d(256, 256, kernel_size=(3, 3), stride=(1, 1), padding=(1, 1))\n",
       "    (15): ReLU(inplace=True)\n",
       "    (16): Conv2d(256, 256, kernel_size=(3, 3), stride=(1, 1), padding=(1, 1))\n",
       "    (17): ReLU(inplace=True)\n",
       "    (18): MaxPool2d(kernel_size=2, stride=2, padding=0, dilation=1, ceil_mode=False)\n",
       "    (19): Conv2d(256, 512, kernel_size=(3, 3), stride=(1, 1), padding=(1, 1))\n",
       "    (20): ReLU(inplace=True)\n",
       "    (21): Conv2d(512, 512, kernel_size=(3, 3), stride=(1, 1), padding=(1, 1))\n",
       "    (22): ReLU(inplace=True)\n",
       "    (23): Conv2d(512, 512, kernel_size=(3, 3), stride=(1, 1), padding=(1, 1))\n",
       "    (24): ReLU(inplace=True)\n",
       "    (25): Conv2d(512, 512, kernel_size=(3, 3), stride=(1, 1), padding=(1, 1))\n",
       "    (26): ReLU(inplace=True)\n",
       "    (27): MaxPool2d(kernel_size=2, stride=2, padding=0, dilation=1, ceil_mode=False)\n",
       "    (28): Conv2d(512, 512, kernel_size=(3, 3), stride=(1, 1), padding=(1, 1))\n",
       "    (29): ReLU(inplace=True)\n",
       "    (30): Conv2d(512, 512, kernel_size=(3, 3), stride=(1, 1), padding=(1, 1))\n",
       "    (31): ReLU(inplace=True)\n",
       "    (32): Conv2d(512, 512, kernel_size=(3, 3), stride=(1, 1), padding=(1, 1))\n",
       "    (33): ReLU(inplace=True)\n",
       "    (34): Conv2d(512, 512, kernel_size=(3, 3), stride=(1, 1), padding=(1, 1))\n",
       "    (35): ReLU(inplace=True)\n",
       "    (36): MaxPool2d(kernel_size=2, stride=2, padding=0, dilation=1, ceil_mode=False)\n",
       "  )\n",
       "  (avgpool): AdaptiveAvgPool2d(output_size=(7, 7))\n",
       "  (classifier): Sequential(\n",
       "    (0): Linear(in_features=25088, out_features=4096, bias=True)\n",
       "    (1): ReLU(inplace=True)\n",
       "    (2): Dropout(p=0.5, inplace=False)\n",
       "    (3): Linear(in_features=4096, out_features=4096, bias=True)\n",
       "    (4): ReLU(inplace=True)\n",
       "    (5): Dropout(p=0.5, inplace=False)\n",
       "    (6): Linear(in_features=4096, out_features=1000, bias=True)\n",
       "  )\n",
       ")"
      ]
     },
     "execution_count": 10,
     "metadata": {},
     "output_type": "execute_result"
    }
   ],
   "source": [
    "# TODO: Build and train your network\n",
    "# model = models.vgg19(pretrained=True)\n",
    "model=models.vgg19(pretrained=True)\n",
    "model"
   ]
  },
  {
   "cell_type": "code",
   "execution_count": 16,
   "metadata": {},
   "outputs": [],
   "source": [
    "for params in model.parameters():\n",
    "    params.require_grads=False"
   ]
  },
  {
   "cell_type": "code",
   "execution_count": 17,
   "metadata": {},
   "outputs": [],
   "source": [
    "hidden_units=512\n",
    "\n",
    "classifier= nn.Sequential(\n",
    "    nn.Linear(25088, hidden_units),\n",
    "    nn.ReLU(),\n",
    "    nn.Dropout(p=0.3),\n",
    "    nn.Linear(hidden_units, 102),\n",
    "    nn.LogSoftmax(dim=1)\n",
    ")\n",
    "\n",
    "\n",
    "model.classifier=classifier\n",
    "optimizer=optim.Adam(model.classifier.parameters(),lr=0.001)\n",
    "criterion=nn.NLLLoss()"
   ]
  },
  {
   "cell_type": "code",
   "execution_count": 15,
   "metadata": {},
   "outputs": [],
   "source": [
    "def validate(model,valloader,criterion, device):\n",
    "    validation_loss = 0\n",
    "    accuracy = 0\n",
    "    model.eval()\n",
    "                \n",
    "    with torch.no_grad():\n",
    "        for images, labels in valloader:  # Using the validation loader here\n",
    "            images, labels = images.to(device), labels.to(device)\n",
    "            logps = model.forward(images)\n",
    "            batch_loss = criterion(logps, labels)\n",
    "            validation_loss += batch_loss.item()\n",
    "                    \n",
    "            # Getting the accuracy\n",
    "            ps = torch.exp(logps)\n",
    "            top_p, top_class = ps.topk(1, dim=1)\n",
    "            equals = top_class == labels.view(*top_class.shape)\n",
    "            accuracy += torch.mean(equals.type(torch.FloatTensor)).item()\n",
    "        validation_loss/=len(valloader)\n",
    "        validation_accuracy=accuracy/len(valloader)\n",
    "        return validation_loss, validation_accuracy\n"
   ]
  },
  {
   "cell_type": "code",
   "execution_count": 18,
   "metadata": {},
   "outputs": [
    {
     "name": "stdout",
     "output_type": "stream",
     "text": [
      "False\n"
     ]
    }
   ],
   "source": [
    "import torch\n",
    "\n",
    "print(torch.cuda.is_available())\n"
   ]
  },
  {
   "cell_type": "code",
   "execution_count": 19,
   "metadata": {},
   "outputs": [
    {
     "name": "stdout",
     "output_type": "stream",
     "text": [
      "Defaulting to user installation because normal site-packages is not writeable\n",
      "Looking in links: https://download.pytorch.org/whl/cu111/torch_stable.html\n",
      "\u001b[31mERROR: Could not find a version that satisfies the requirement torch==1.10.0+cu111 (from versions: 1.11.0, 1.12.0, 1.12.1, 1.13.0, 1.13.1, 2.0.0, 2.0.1, 2.1.0, 2.1.1, 2.1.2)\u001b[0m\u001b[31m\n",
      "\u001b[0m\u001b[31mERROR: No matching distribution found for torch==1.10.0+cu111\u001b[0m\u001b[31m\n",
      "\u001b[0mNote: you may need to restart the kernel to use updated packages.\n"
     ]
    }
   ],
   "source": [
    "pip install torch==1.10.0+cu111 torchvision==0.11.1+cu111 torchaudio==0.10.0+cu111 -f https://download.pytorch.org/whl/cu111/torch_stable.html"
   ]
  },
  {
   "cell_type": "code",
   "execution_count": 21,
   "metadata": {},
   "outputs": [
    {
     "data": {
      "text/plain": [
       "VGG(\n",
       "  (features): Sequential(\n",
       "    (0): Conv2d(3, 64, kernel_size=(3, 3), stride=(1, 1), padding=(1, 1))\n",
       "    (1): ReLU(inplace=True)\n",
       "    (2): Conv2d(64, 64, kernel_size=(3, 3), stride=(1, 1), padding=(1, 1))\n",
       "    (3): ReLU(inplace=True)\n",
       "    (4): MaxPool2d(kernel_size=2, stride=2, padding=0, dilation=1, ceil_mode=False)\n",
       "    (5): Conv2d(64, 128, kernel_size=(3, 3), stride=(1, 1), padding=(1, 1))\n",
       "    (6): ReLU(inplace=True)\n",
       "    (7): Conv2d(128, 128, kernel_size=(3, 3), stride=(1, 1), padding=(1, 1))\n",
       "    (8): ReLU(inplace=True)\n",
       "    (9): MaxPool2d(kernel_size=2, stride=2, padding=0, dilation=1, ceil_mode=False)\n",
       "    (10): Conv2d(128, 256, kernel_size=(3, 3), stride=(1, 1), padding=(1, 1))\n",
       "    (11): ReLU(inplace=True)\n",
       "    (12): Conv2d(256, 256, kernel_size=(3, 3), stride=(1, 1), padding=(1, 1))\n",
       "    (13): ReLU(inplace=True)\n",
       "    (14): Conv2d(256, 256, kernel_size=(3, 3), stride=(1, 1), padding=(1, 1))\n",
       "    (15): ReLU(inplace=True)\n",
       "    (16): Conv2d(256, 256, kernel_size=(3, 3), stride=(1, 1), padding=(1, 1))\n",
       "    (17): ReLU(inplace=True)\n",
       "    (18): MaxPool2d(kernel_size=2, stride=2, padding=0, dilation=1, ceil_mode=False)\n",
       "    (19): Conv2d(256, 512, kernel_size=(3, 3), stride=(1, 1), padding=(1, 1))\n",
       "    (20): ReLU(inplace=True)\n",
       "    (21): Conv2d(512, 512, kernel_size=(3, 3), stride=(1, 1), padding=(1, 1))\n",
       "    (22): ReLU(inplace=True)\n",
       "    (23): Conv2d(512, 512, kernel_size=(3, 3), stride=(1, 1), padding=(1, 1))\n",
       "    (24): ReLU(inplace=True)\n",
       "    (25): Conv2d(512, 512, kernel_size=(3, 3), stride=(1, 1), padding=(1, 1))\n",
       "    (26): ReLU(inplace=True)\n",
       "    (27): MaxPool2d(kernel_size=2, stride=2, padding=0, dilation=1, ceil_mode=False)\n",
       "    (28): Conv2d(512, 512, kernel_size=(3, 3), stride=(1, 1), padding=(1, 1))\n",
       "    (29): ReLU(inplace=True)\n",
       "    (30): Conv2d(512, 512, kernel_size=(3, 3), stride=(1, 1), padding=(1, 1))\n",
       "    (31): ReLU(inplace=True)\n",
       "    (32): Conv2d(512, 512, kernel_size=(3, 3), stride=(1, 1), padding=(1, 1))\n",
       "    (33): ReLU(inplace=True)\n",
       "    (34): Conv2d(512, 512, kernel_size=(3, 3), stride=(1, 1), padding=(1, 1))\n",
       "    (35): ReLU(inplace=True)\n",
       "    (36): MaxPool2d(kernel_size=2, stride=2, padding=0, dilation=1, ceil_mode=False)\n",
       "  )\n",
       "  (avgpool): AdaptiveAvgPool2d(output_size=(7, 7))\n",
       "  (classifier): Sequential(\n",
       "    (0): Linear(in_features=25088, out_features=512, bias=True)\n",
       "    (1): ReLU()\n",
       "    (2): Dropout(p=0.3, inplace=False)\n",
       "    (3): Linear(in_features=512, out_features=102, bias=True)\n",
       "    (4): LogSoftmax(dim=1)\n",
       "  )\n",
       ")"
      ]
     },
     "execution_count": 21,
     "metadata": {},
     "output_type": "execute_result"
    }
   ],
   "source": [
    "device = torch.device(\"cpu\")\n",
    "model.to(device)\n"
   ]
  },
  {
   "cell_type": "code",
   "execution_count": null,
   "metadata": {},
   "outputs": [],
   "source": [
    "# Training the network\n",
    "epochs = 5\n",
    "steps = 0\n",
    "running_loss = 0\n",
    "print_every = 5\n",
    "\n",
    "model.to(device)\n",
    "\n",
    "for epoch in range(epochs):\n",
    "    \n",
    "    for inputs, labels in trainloader:\n",
    "#         print(\"step\",steps)\n",
    "        steps += 1\n",
    "        inputs, labels = inputs.to(device), labels.to(device)\n",
    "        optimizer.zero_grad()\n",
    "        logps = model.forward(inputs)\n",
    "        loss = criterion(logps, labels)\n",
    "        \n",
    "        loss.backward()\n",
    "        optimizer.step()\n",
    "        \n",
    "        running_loss += loss.item()\n",
    "        \n",
    "        if steps % print_every == 0:\n",
    "            validation_loss, validation_accuracy=validate(model,valloader, criterion, device)\n",
    "            print(f\"Epoch {epoch + 1}/{epochs}..\"\n",
    "                  f\"Train loss: {running_loss / print_every:.3f}.. \"\n",
    "                  f\"Validation loss: {validation_loss:.3f}.. \"\n",
    "                  f\"Validation accuracy: {validation_accuracy:.3f} \")\n",
    "            \n",
    "            running_loss = 0\n",
    "            model.train()"
   ]
  },
  {
   "cell_type": "markdown",
   "metadata": {},
   "source": [
    "## Testing your network\n",
    "\n",
    "It's good practice to test your trained network on test data, images the network has never seen either in training or validation. This will give you a good estimate for the model's performance on completely new images. Run the test images through the network and measure the accuracy, the same way you did validation. You should be able to reach around 70% accuracy on the test set if the model has been trained well."
   ]
  },
  {
   "cell_type": "code",
   "execution_count": null,
   "metadata": {},
   "outputs": [],
   "source": [
    "# TODO: Do validation on the test set\n",
    "test_loss=0\n",
    "accuracy=0\n",
    "model.eval()\n",
    "model.to(device)\n",
    "print(len(testloader))\n",
    "with torch.no_grad():\n",
    "    for images, labels in testloader:\n",
    "        images, labels=images.to(device),labels.to(device)\n",
    "        logps=model.forward(images)\n",
    "        loss=criterion(logps, labels)\n",
    "        test_loss+=loss.item()\n",
    "\n",
    "        # Getting the accuracy\n",
    "        ps = torch.exp(logps)\n",
    "        top_p, top_class = ps.topk(1, dim=1)\n",
    "        equals = top_class == labels.view(*top_class.shape)\n",
    "        accuracy += torch.mean(equals.type(torch.FloatTensor)).item()\n",
    "      \n",
    "print(f\" Test accuracy: {accuracy*100/len(testloader):.3f}%\")\n",
    "print(f\" Test loss: {test_loss/len(testloader)}\")"
   ]
  },
  {
   "cell_type": "code",
   "execution_count": 32,
   "metadata": {},
   "outputs": [
    {
     "data": {
      "text/plain": [
       "{'state': {0: {'step': tensor(3.),\n",
       "   'exp_avg': tensor([[ 1.1132e-04,  1.2391e-04,  8.0316e-05,  ...,  0.0000e+00,\n",
       "             0.0000e+00,  2.8680e-05],\n",
       "           [ 1.7849e-03, -1.7646e-04,  5.8343e-04,  ...,  0.0000e+00,\n",
       "             0.0000e+00, -2.9798e-06],\n",
       "           [ 2.3160e-03,  2.9747e-04,  3.7969e-04,  ...,  0.0000e+00,\n",
       "             0.0000e+00, -7.2270e-05],\n",
       "           ...,\n",
       "           [-2.2437e-04, -7.6252e-04,  7.1045e-04,  ...,  0.0000e+00,\n",
       "             0.0000e+00,  0.0000e+00],\n",
       "           [ 0.0000e+00,  0.0000e+00,  0.0000e+00,  ...,  0.0000e+00,\n",
       "             0.0000e+00,  0.0000e+00],\n",
       "           [ 0.0000e+00,  0.0000e+00,  0.0000e+00,  ...,  0.0000e+00,\n",
       "             0.0000e+00,  0.0000e+00]]),\n",
       "   'exp_avg_sq': tensor([[2.0968e-08, 4.2585e-09, 2.0516e-09,  ..., 0.0000e+00, 0.0000e+00,\n",
       "            1.2512e-10],\n",
       "           [1.7386e-07, 4.6796e-08, 1.5289e-07,  ..., 0.0000e+00, 0.0000e+00,\n",
       "            1.3506e-12],\n",
       "           [6.9930e-07, 1.7435e-07, 5.8169e-08,  ..., 0.0000e+00, 0.0000e+00,\n",
       "            7.9447e-10],\n",
       "           ...,\n",
       "           [4.4352e-07, 5.6640e-08, 1.8271e-07,  ..., 0.0000e+00, 0.0000e+00,\n",
       "            0.0000e+00],\n",
       "           [0.0000e+00, 0.0000e+00, 0.0000e+00,  ..., 0.0000e+00, 0.0000e+00,\n",
       "            0.0000e+00],\n",
       "           [0.0000e+00, 0.0000e+00, 0.0000e+00,  ..., 0.0000e+00, 0.0000e+00,\n",
       "            0.0000e+00]])},\n",
       "  1: {'step': tensor(3.),\n",
       "   'exp_avg': tensor([-4.7498e-04,  8.3552e-04,  2.0561e-03,  3.5622e-04,  4.4441e-05,\n",
       "            5.6428e-04,  6.9081e-04,  6.3910e-04, -1.4937e-03,  2.6276e-03,\n",
       "            1.4345e-03,  5.5892e-04,  5.4102e-04,  5.2303e-04,  1.7478e-03,\n",
       "            2.8933e-04,  1.0257e-03,  3.5340e-04,  3.5841e-04,  2.3541e-04,\n",
       "            2.1575e-05,  4.9264e-04,  6.0691e-04, -2.6317e-03,  1.8108e-04,\n",
       "           -1.1230e-04,  1.0407e-03,  1.8197e-04,  1.3370e-03,  3.0822e-04,\n",
       "            4.6521e-04, -1.4020e-03,  3.1345e-04,  7.8369e-04,  4.7074e-04,\n",
       "            3.4292e-04,  2.8147e-04,  1.2853e-03,  3.5634e-04,  4.4127e-04,\n",
       "           -4.6853e-04,  2.7175e-04,  1.2594e-04,  2.1303e-04,  1.7210e-03,\n",
       "            7.2538e-04,  5.1740e-04, -5.2849e-05,  3.3436e-04,  2.2347e-04,\n",
       "            4.7266e-04, -8.7694e-04,  4.1292e-04,  3.1163e-04,  1.2202e-03,\n",
       "            5.5123e-04,  1.7199e-04,  3.7482e-04, -4.9647e-05,  1.3052e-04,\n",
       "            4.9900e-04,  3.2535e-04,  4.7519e-04, -2.3821e-04,  2.2590e-03,\n",
       "            3.0534e-04,  3.4975e-04, -5.2632e-05,  4.9222e-04,  1.6164e-03,\n",
       "           -9.0126e-04,  4.5216e-04,  1.6782e-03,  1.1223e-03, -1.5392e-03,\n",
       "            1.0683e-03,  2.1094e-04,  6.3369e-04,  8.1603e-04, -7.9251e-04,\n",
       "           -8.5792e-04,  4.2822e-04,  9.6736e-04,  6.7519e-04, -6.9919e-04,\n",
       "            5.9851e-04,  6.7756e-04,  5.0311e-04,  5.0241e-04,  8.9779e-04,\n",
       "            3.4037e-04,  1.3274e-03, -1.2533e-03,  1.0130e-03,  1.6781e-04,\n",
       "            6.0076e-04, -1.8411e-03,  2.9023e-04,  4.4519e-04,  2.1462e-04,\n",
       "            2.5362e-03,  2.6351e-04,  1.4593e-03, -1.0939e-03,  4.6156e-04,\n",
       "           -4.4577e-04,  2.1255e-04, -5.7689e-04,  1.4012e-03,  4.2032e-04,\n",
       "            1.4747e-04,  8.6534e-04,  3.5042e-04,  9.2369e-05,  3.1920e-04,\n",
       "            4.0467e-04, -1.5398e-04, -2.4476e-04,  2.0007e-03, -2.7271e-04,\n",
       "            3.1397e-04,  4.3492e-04,  2.2622e-03,  9.9593e-04,  6.5096e-04,\n",
       "            1.2696e-04,  1.7483e-04, -1.9151e-03,  4.1869e-04,  6.7029e-04,\n",
       "            2.4650e-04,  2.0479e-03,  8.5420e-04,  1.2128e-03,  8.4046e-04,\n",
       "            9.8393e-04, -9.9377e-04,  4.3212e-04, -1.0012e-03,  8.1352e-04,\n",
       "            1.1317e-03,  7.5047e-04,  4.4382e-04, -5.6450e-04,  6.8571e-04,\n",
       "            2.9231e-04,  1.0731e-03,  3.1051e-04,  8.5697e-05,  6.2111e-04,\n",
       "            9.2695e-04, -1.0414e-04,  5.7662e-04,  8.6803e-04,  6.5705e-04,\n",
       "            1.4124e-04,  8.0686e-04, -2.3719e-04,  7.6840e-04,  3.7333e-04,\n",
       "            6.3854e-04,  6.2708e-04,  0.0000e+00,  7.3230e-04, -2.0374e-03,\n",
       "            8.2277e-04,  1.7090e-03,  1.2156e-04,  8.3424e-04,  3.3910e-04,\n",
       "            4.8183e-04,  1.7182e-04,  1.2447e-03,  6.7769e-04, -1.9254e-03,\n",
       "            3.1778e-04,  5.3254e-04, -3.5464e-04,  1.9204e-03, -7.2023e-05,\n",
       "           -3.1547e-04,  2.9590e-04,  1.2144e-03,  5.3490e-04,  3.4900e-04,\n",
       "            1.4186e-05,  1.4860e-04, -3.0763e-04,  5.3986e-04, -1.1571e-03,\n",
       "            1.7623e-04, -1.8829e-04,  1.9437e-03,  1.9508e-04,  6.8722e-04,\n",
       "            2.0386e-04,  8.3773e-04,  3.1840e-04,  1.4050e-03,  9.0592e-05,\n",
       "            8.2823e-04,  4.4295e-04,  1.8138e-03,  1.9714e-04,  4.8252e-04,\n",
       "            2.4755e-03, -9.5234e-04,  6.0171e-05,  3.7575e-04,  1.0584e-03,\n",
       "           -1.3573e-03,  5.0777e-04, -2.5012e-04,  2.8261e-04,  4.6409e-04,\n",
       "            7.9814e-04,  8.4970e-04,  8.6968e-04, -1.7559e-04,  1.8409e-05,\n",
       "            2.0532e-03,  4.7943e-04,  7.6578e-04,  5.4662e-04,  2.1219e-04,\n",
       "            3.1369e-04,  4.5686e-04, -5.6907e-04, -4.9536e-04,  2.9846e-04,\n",
       "           -3.0964e-05, -5.8959e-04, -8.0419e-05, -1.0409e-03,  7.0903e-04,\n",
       "           -1.7912e-03,  4.2654e-04,  9.1965e-04, -4.4998e-04,  7.7497e-04,\n",
       "            3.6054e-04, -1.7238e-03,  2.4462e-04,  4.8990e-04,  4.6100e-04,\n",
       "            3.3851e-04,  8.6772e-04,  1.2829e-03,  1.8558e-04,  2.9214e-04,\n",
       "           -1.0068e-03,  9.0915e-04,  5.3927e-04,  7.7278e-04,  2.2714e-04,\n",
       "            7.2463e-04, -5.1655e-04,  4.4081e-04,  1.5174e-03, -5.3970e-04,\n",
       "            3.9960e-04,  3.7146e-04, -1.3681e-03, -1.0379e-03,  1.9813e-04,\n",
       "            3.3618e-04,  1.3235e-03, -3.0593e-04,  5.0959e-04,  4.8567e-05,\n",
       "            7.9553e-04,  7.2479e-04,  2.7422e-04,  7.1040e-04,  9.4533e-04,\n",
       "           -9.4277e-04,  1.7119e-04, -1.1753e-03,  1.3625e-03,  1.9464e-04,\n",
       "            6.1309e-04,  1.1424e-04, -1.4737e-04,  1.4987e-05,  2.5246e-04,\n",
       "            1.0125e-04, -1.1716e-03,  3.6858e-04,  8.3320e-04,  7.7708e-04,\n",
       "           -1.1939e-03,  2.6101e-04,  1.6930e-04,  1.7426e-04, -1.0420e-03,\n",
       "            1.1928e-03, -6.3710e-04, -2.0014e-03,  1.1261e-03,  4.1102e-04,\n",
       "            1.1743e-03,  6.5050e-04,  5.9176e-04,  2.7448e-04,  9.4316e-04,\n",
       "            7.6681e-04,  1.3962e-04,  4.9164e-04, -4.8731e-04,  3.6165e-04,\n",
       "           -4.0150e-04,  4.9485e-04, -2.8224e-04,  3.5425e-04,  4.3299e-04,\n",
       "            7.8886e-04,  8.5470e-04,  4.9207e-04,  2.3190e-04,  6.2264e-04,\n",
       "            2.5746e-03,  6.4997e-06, -3.5169e-05,  3.2846e-04,  3.3964e-04,\n",
       "            4.5966e-04, -2.7549e-04,  2.4277e-04,  5.3375e-04,  2.1000e-03,\n",
       "            2.6383e-04,  5.8000e-04,  3.0306e-04,  3.5280e-04,  1.0687e-04,\n",
       "            1.1868e-03,  3.5566e-04,  3.6301e-04,  9.4438e-04,  1.3417e-04,\n",
       "            2.6751e-03,  3.5830e-04,  3.9076e-04, -7.9232e-04, -1.7399e-03,\n",
       "            4.2952e-04, -1.4293e-03,  2.6878e-04, -9.3790e-04,  3.5720e-04,\n",
       "            1.2882e-03, -4.5513e-05, -6.8646e-05, -1.8265e-03, -3.1998e-04,\n",
       "           -6.4792e-04, -1.3079e-04,  4.3557e-04, -5.9446e-07, -5.2285e-05,\n",
       "            3.2633e-04,  3.2709e-04,  2.0225e-03, -2.1783e-04,  8.2285e-04,\n",
       "            1.8696e-03,  2.9920e-04, -3.7409e-04,  9.1360e-04,  1.9538e-04,\n",
       "           -1.6193e-04, -3.3875e-04, -2.0426e-04,  7.6049e-04,  3.7933e-04,\n",
       "            5.7380e-06,  1.7989e-03,  1.4229e-03,  1.1165e-05,  1.2184e-03,\n",
       "            1.5372e-04,  3.6279e-04,  6.4992e-04,  2.6463e-03,  2.1308e-04,\n",
       "            8.2309e-05,  7.8306e-04,  5.8549e-04,  8.0549e-04,  1.3944e-03,\n",
       "            1.6011e-04,  8.9670e-04,  2.8463e-04,  1.0238e-05,  3.9589e-04,\n",
       "           -1.6068e-03, -5.8878e-04,  1.3640e-04,  2.2046e-04,  2.9927e-04,\n",
       "            5.6430e-04,  2.5974e-04, -1.5287e-03,  7.3828e-04, -1.8066e-04,\n",
       "            6.7115e-05, -6.2472e-04,  1.5093e-04,  1.2442e-04,  4.2813e-04,\n",
       "            1.2183e-03, -1.4285e-03,  3.4441e-04,  6.4131e-04,  1.1114e-03,\n",
       "            1.1213e-03, -8.8508e-06, -1.4974e-05,  6.1259e-04,  1.0674e-03,\n",
       "            3.4416e-04,  7.6024e-04,  5.2232e-04,  7.3870e-04,  1.3648e-03,\n",
       "            2.7869e-04,  3.6785e-04,  3.8939e-04, -4.5825e-04,  6.2717e-04,\n",
       "            4.1793e-04, -4.9451e-04,  5.1486e-04, -7.3543e-04, -1.0776e-04,\n",
       "            3.0296e-04,  5.0530e-04,  2.3670e-04,  6.1712e-04, -1.7652e-04,\n",
       "            7.6745e-04,  7.1025e-04,  2.9253e-04, -2.7112e-04,  2.9629e-04,\n",
       "            2.1525e-04, -5.2132e-04,  3.5442e-04,  9.2561e-04,  1.5721e-03,\n",
       "            1.3075e-03,  8.6113e-04,  6.7092e-04, -2.6906e-04,  2.6550e-03,\n",
       "            1.1020e-03,  3.9133e-04,  3.4173e-04, -7.7985e-05,  2.3215e-04,\n",
       "           -6.0946e-04,  4.6378e-04,  1.0636e-03,  1.5959e-04,  4.2958e-04,\n",
       "           -1.7297e-03, -1.8456e-04,  3.1033e-03, -8.7980e-04,  8.4738e-04,\n",
       "            5.7933e-04,  2.1192e-03,  2.8695e-04,  6.5216e-04,  1.7015e-04,\n",
       "            9.4715e-04, -6.3498e-04,  1.1686e-03,  6.0803e-04,  1.2105e-03,\n",
       "           -1.3367e-03,  1.7985e-04,  1.7099e-03,  9.5551e-05,  2.7763e-04,\n",
       "            2.1474e-03,  9.7688e-04,  2.1329e-04, -3.4861e-04,  3.0463e-04,\n",
       "            9.8126e-05, -2.6106e-04,  6.1110e-04,  5.4764e-04,  1.1289e-03,\n",
       "            2.5094e-03,  8.6490e-05, -9.3366e-04,  3.2587e-04,  3.6395e-04,\n",
       "            1.9755e-03,  5.2463e-05,  7.3523e-04,  2.3555e-03, -5.6358e-05,\n",
       "            4.5661e-04,  5.1067e-04,  6.0469e-04,  7.1121e-04, -5.6927e-04,\n",
       "            1.5407e-04,  2.3497e-04]),\n",
       "   'exp_avg_sq': tensor([2.3264e-08, 7.7674e-07, 9.1931e-07, 1.9302e-08, 2.9303e-09, 1.3007e-08,\n",
       "           7.2589e-08, 6.2130e-08, 1.5207e-07, 9.0384e-07, 1.4987e-07, 4.1304e-08,\n",
       "           4.4523e-08, 4.1612e-08, 2.7069e-07, 1.5705e-07, 1.0109e-06, 1.8998e-08,\n",
       "           1.9540e-08, 8.4299e-09, 1.0007e-07, 1.4588e-07, 1.5946e-07, 3.6426e-07,\n",
       "           4.9877e-09, 3.7150e-09, 1.3573e-07, 1.7439e-08, 4.8785e-07, 7.7896e-09,\n",
       "           2.5251e-08, 1.7113e-07, 1.4945e-08, 9.3422e-08, 1.6518e-08, 1.0812e-08,\n",
       "           1.2051e-08, 3.4277e-07, 1.9315e-08, 1.2787e-07, 1.7628e-08, 1.1233e-08,\n",
       "           2.4128e-09, 4.4582e-09, 4.0942e-07, 1.8696e-07, 7.6323e-08, 2.1917e-08,\n",
       "           7.5407e-08, 7.5964e-09, 1.4315e-07, 4.7644e-08, 2.5935e-08, 1.4772e-08,\n",
       "           2.6422e-07, 4.6220e-08, 4.4993e-09, 2.1370e-08, 2.0979e-09, 1.7601e-08,\n",
       "           2.4768e-08, 1.6101e-08, 3.4347e-08, 7.5779e-09, 5.4317e-07, 5.2085e-09,\n",
       "           8.6535e-09, 1.6400e-08, 3.6853e-08, 2.3679e-07, 7.5656e-08, 3.1098e-08,\n",
       "           3.8998e-07, 1.9158e-07, 2.3621e-07, 1.7360e-07, 6.7683e-09, 3.5413e-07,\n",
       "           1.0129e-07, 5.4032e-08, 3.2564e-08, 1.4667e-08, 1.4234e-07, 6.6557e-08,\n",
       "           4.4919e-08, 5.4488e-08, 1.0191e-07, 3.8503e-08, 1.8230e-08, 1.2260e-07,\n",
       "           1.9860e-08, 3.0411e-07, 2.0223e-07, 1.3319e-07, 1.9186e-09, 1.5794e-08,\n",
       "           2.3545e-07, 1.1726e-08, 3.0148e-08, 1.2201e-07, 5.1524e-07, 5.1379e-08,\n",
       "           3.4037e-07, 5.1890e-08, 1.7891e-08, 1.2055e-07, 2.6561e-08, 6.8981e-08,\n",
       "           2.3339e-07, 2.6873e-08, 2.4726e-09, 3.8041e-07, 4.4178e-08, 1.9914e-08,\n",
       "           1.5499e-08, 2.4910e-08, 1.5976e-08, 2.7954e-08, 4.1005e-07, 3.4760e-09,\n",
       "           1.4994e-08, 2.6426e-08, 6.6262e-07, 1.4225e-07, 6.4457e-08, 2.4518e-09,\n",
       "           1.2641e-08, 1.7110e-07, 6.0762e-08, 6.8342e-08, 2.6343e-08, 3.2811e-07,\n",
       "           1.2335e-07, 2.2372e-07, 4.9156e-07, 6.7829e-08, 2.4387e-07, 1.0347e-07,\n",
       "           1.1164e-07, 4.0565e-07, 1.2804e-07, 8.5669e-08, 2.9962e-08, 4.2546e-08,\n",
       "           2.7853e-08, 4.2530e-08, 1.7516e-07, 1.4666e-08, 5.0633e-10, 5.8682e-08,\n",
       "           1.7275e-07, 2.5715e-08, 5.0576e-08, 1.1461e-07, 6.5669e-08, 6.3178e-08,\n",
       "           9.9027e-08, 3.1095e-08, 1.8728e-07, 7.1907e-08, 3.5504e-08, 3.2873e-08,\n",
       "           0.0000e+00, 7.8052e-08, 1.8940e-07, 6.4212e-08, 2.1401e-07, 1.4299e-08,\n",
       "           3.3321e-08, 1.7491e-08, 2.6343e-07, 4.4908e-09, 1.5583e-07, 5.4849e-08,\n",
       "           1.7682e-07, 1.5361e-08, 6.0137e-08, 2.1077e-08, 4.0445e-07, 1.0308e-08,\n",
       "           2.0542e-08, 6.4292e-09, 1.1519e-07, 4.3522e-08, 2.3376e-08, 3.0609e-11,\n",
       "           2.1915e-08, 2.0435e-07, 4.4333e-08, 1.4024e-07, 4.7240e-09, 8.5625e-09,\n",
       "           3.5827e-07, 2.3690e-08, 4.8025e-08, 1.9749e-08, 1.0675e-07, 1.5421e-08,\n",
       "           3.4527e-07, 1.2484e-09, 8.9642e-08, 2.9845e-08, 5.6256e-07, 6.8996e-09,\n",
       "           3.5416e-08, 5.7631e-07, 4.6937e-08, 9.6904e-09, 1.1934e-08, 3.3861e-07,\n",
       "           5.7303e-07, 3.7871e-08, 5.4622e-08, 1.2149e-08, 3.2762e-08, 2.2532e-07,\n",
       "           1.0982e-07, 1.0957e-07, 5.7466e-09, 1.9132e-08, 6.9103e-07, 3.4964e-08,\n",
       "           8.9200e-08, 1.8664e-08, 6.8487e-09, 1.2903e-08, 3.1749e-08, 5.7665e-08,\n",
       "           7.5560e-08, 1.3550e-08, 1.5417e-08, 1.1363e-07, 6.5271e-09, 2.2766e-07,\n",
       "           8.9184e-08, 1.7275e-07, 3.7222e-08, 1.2865e-07, 2.0850e-08, 2.0645e-07,\n",
       "           1.9773e-08, 2.4011e-07, 3.9914e-09, 3.6507e-08, 3.2326e-08, 8.8451e-09,\n",
       "           1.1453e-07, 1.5391e-07, 5.2384e-09, 1.2982e-08, 9.6440e-08, 6.3507e-07,\n",
       "           4.4235e-08, 1.9194e-07, 7.8481e-09, 1.0684e-07, 1.1291e-08, 1.6496e-07,\n",
       "           3.5242e-07, 2.8865e-08, 1.9694e-08, 7.1895e-08, 1.6624e-07, 1.7870e-07,\n",
       "           1.4222e-07, 1.7191e-08, 4.6229e-07, 2.6599e-08, 3.9501e-08, 3.5879e-10,\n",
       "           9.6267e-08, 5.0706e-08, 5.2283e-08, 8.1347e-08, 4.6931e-07, 1.7590e-07,\n",
       "           4.4579e-09, 2.0049e-07, 2.0345e-07, 4.8370e-09, 2.2613e-07, 1.4023e-09,\n",
       "           3.1244e-08, 1.3676e-08, 4.7084e-09, 1.5356e-08, 6.7271e-08, 3.9889e-08,\n",
       "           2.1701e-07, 2.4666e-07, 4.2554e-07, 9.9025e-09, 4.3600e-09, 2.9878e-08,\n",
       "           6.9480e-08, 2.2492e-07, 2.7149e-08, 4.0733e-07, 1.9288e-07, 2.5697e-08,\n",
       "           1.4385e-07, 4.4280e-08, 4.8879e-08, 7.3260e-09, 1.3531e-07, 1.9731e-07,\n",
       "           2.9651e-09, 3.6766e-08, 3.6205e-07, 1.9894e-08, 2.7451e-08, 3.7249e-08,\n",
       "           7.8045e-08, 1.9089e-08, 3.5560e-08, 9.4660e-08, 1.1112e-07, 3.6832e-08,\n",
       "           1.6420e-07, 5.8971e-08, 1.0133e-06, 1.0907e-08, 4.5909e-08, 1.6411e-08,\n",
       "           1.7547e-08, 5.8062e-08, 1.5110e-08, 8.9648e-09, 4.3335e-08, 7.3284e-07,\n",
       "           1.0588e-08, 6.1899e-07, 1.3970e-08, 1.8933e-08, 1.7373e-09, 1.3715e-07,\n",
       "           1.9242e-08, 3.3772e-08, 1.3852e-07, 2.7382e-09, 1.3146e-06, 1.9528e-08,\n",
       "           2.3226e-08, 3.6189e-08, 2.3323e-07, 2.8063e-08, 9.9124e-08, 2.1776e-07,\n",
       "           3.8184e-08, 1.9408e-08, 1.1359e-07, 2.5548e-10, 7.7620e-09, 1.9572e-07,\n",
       "           4.9319e-09, 1.0472e-06, 2.1097e-07, 2.0579e-07, 5.3754e-14, 1.5005e-07,\n",
       "           7.5437e-09, 1.7744e-07, 1.1065e-06, 3.5827e-08, 6.7022e-08, 2.5028e-07,\n",
       "           1.3617e-08, 6.6078e-07, 8.5523e-08, 1.0297e-08, 7.7226e-08, 3.6685e-08,\n",
       "           3.0145e-07, 8.7974e-08, 1.3507e-07, 1.3263e-07, 2.2562e-07, 3.2653e-07,\n",
       "           2.1569e-07, 2.0353e-07, 1.4133e-08, 7.9744e-09, 6.7581e-08, 7.6036e-07,\n",
       "           8.2771e-08, 2.4916e-08, 1.3715e-07, 5.2143e-08, 9.8692e-08, 1.1817e-07,\n",
       "           1.3216e-07, 5.7149e-07, 6.8466e-09, 9.7896e-09, 2.3840e-08, 2.0775e-07,\n",
       "           7.6133e-08, 2.8300e-09, 7.3933e-09, 1.3623e-08, 1.2397e-07, 1.3326e-07,\n",
       "           1.0609e-07, 8.2908e-08, 2.1386e-08, 6.8517e-10, 7.9566e-08, 3.4649e-09,\n",
       "           9.0201e-09, 2.7882e-08, 1.0638e-07, 6.9866e-07, 1.8043e-08, 4.5373e-08,\n",
       "           1.4952e-07, 2.7981e-07, 3.0583e-08, 3.4106e-11, 5.7082e-08, 4.5770e-07,\n",
       "           1.8017e-08, 3.9951e-08, 4.1498e-08, 1.2027e-07, 4.5759e-07, 4.5091e-09,\n",
       "           5.5619e-08, 2.3063e-08, 2.9710e-07, 5.9831e-08, 2.6569e-08, 2.5854e-07,\n",
       "           1.7070e-08, 2.0832e-07, 7.4679e-08, 1.3962e-08, 2.2689e-07, 5.5505e-09,\n",
       "           5.7929e-08, 1.4727e-08, 8.9589e-08, 1.4213e-07, 4.1566e-08, 1.2843e-07,\n",
       "           1.3353e-08, 7.0479e-09, 6.4607e-08, 5.7487e-08, 8.1103e-08, 3.7594e-07,\n",
       "           3.9911e-07, 9.3518e-08, 2.0486e-07, 1.9719e-07, 6.2767e-07, 2.1985e-07,\n",
       "           1.8887e-08, 1.7763e-08, 5.8563e-08, 5.0584e-09, 1.6739e-07, 3.2718e-08,\n",
       "           3.0020e-07, 3.8740e-09, 2.8071e-08, 6.3601e-07, 8.9461e-08, 8.2643e-07,\n",
       "           3.7530e-07, 1.0922e-07, 3.5356e-07, 9.4286e-07, 8.2739e-08, 6.4696e-08,\n",
       "           2.7047e-08, 5.9124e-07, 6.4574e-08, 5.5828e-07, 5.8110e-08, 4.0676e-07,\n",
       "           1.5499e-07, 2.2940e-08, 2.2328e-07, 1.8798e-08, 1.1724e-08, 3.0225e-07,\n",
       "           4.7737e-07, 6.9199e-09, 1.0181e-08, 1.4116e-08, 1.4646e-09, 7.8580e-09,\n",
       "           4.5210e-08, 2.6032e-07, 2.5122e-07, 4.1526e-07, 3.1394e-09, 1.8409e-07,\n",
       "           1.3913e-07, 1.3198e-08, 5.5332e-07, 4.1867e-10, 6.3683e-08, 5.8437e-07,\n",
       "           2.1614e-08, 1.0141e-08, 2.2364e-08, 2.9939e-08, 7.6940e-08, 4.3193e-08,\n",
       "           2.9277e-09, 8.3985e-09])},\n",
       "  2: {'step': tensor(3.),\n",
       "   'exp_avg': tensor([[ 2.0164e-04,  3.8020e-03,  4.7184e-03,  ...,  2.0090e-03,\n",
       "             2.7331e-05,  2.0213e-06],\n",
       "           [ 1.1855e-04,  8.2801e-04,  1.0509e-03,  ...,  4.9247e-04,\n",
       "             6.5271e-06,  1.5830e-06],\n",
       "           [ 1.7807e-04,  1.8632e-03,  2.1538e-03,  ...,  8.6395e-04,\n",
       "             1.0767e-05,  1.7992e-06],\n",
       "           ...,\n",
       "           [ 1.0190e-04,  3.2751e-04,  4.3263e-04,  ...,  2.3255e-04,\n",
       "             2.9994e-06,  1.9179e-06],\n",
       "           [ 4.0612e-03,  4.4006e-02,  3.0849e-02,  ...,  1.5337e-02,\n",
       "             6.0115e-05,  1.9106e-06],\n",
       "           [ 2.6062e-04, -7.7890e-03, -1.2537e-02,  ...,  1.5830e-03,\n",
       "             9.1932e-06,  1.6160e-06]]),\n",
       "   'exp_avg_sq': tensor([[2.1519e-09, 7.3775e-07, 1.2402e-06,  ..., 1.9445e-07, 9.2128e-11,\n",
       "            6.2149e-13],\n",
       "           [1.2734e-09, 2.8382e-08, 5.3459e-08,  ..., 1.2536e-08, 5.2544e-12,\n",
       "            3.8119e-13],\n",
       "           [1.7504e-09, 1.6909e-07, 2.2735e-07,  ..., 3.4746e-08, 1.4298e-11,\n",
       "            4.9242e-13],\n",
       "           ...,\n",
       "           [1.1862e-09, 5.2237e-09, 1.0519e-08,  ..., 5.1642e-09, 1.1096e-12,\n",
       "            5.5953e-13],\n",
       "           [1.5219e-06, 2.0461e-04, 1.5833e-04,  ..., 2.1725e-05, 4.4571e-10,\n",
       "            5.5526e-13],\n",
       "           [3.6418e-09, 1.4433e-05, 2.8808e-05,  ..., 1.6152e-07, 1.0423e-11,\n",
       "            3.9723e-13]])},\n",
       "  3: {'step': tensor(3.),\n",
       "   'exp_avg': tensor([ 0.0022,  0.0011,  0.0015,  0.0008,  0.0023, -0.0028,  0.0013,  0.0014,\n",
       "           -0.0055,  0.0010,  0.0021, -0.0046,  0.0013,  0.0021,  0.0005,  0.0015,\n",
       "            0.0033,  0.0014, -0.0055, -0.0048,  0.0011,  0.0017,  0.0018,  0.0010,\n",
       "            0.0011,  0.0020,  0.0010, -0.0004,  0.0013,  0.0021, -0.0011, -0.0048,\n",
       "            0.0012,  0.0009,  0.0009,  0.0015,  0.0013,  0.0012,  0.0013, -0.0048,\n",
       "           -0.0114, -0.0045,  0.0012,  0.0014,  0.0009,  0.0012, -0.0020,  0.0010,\n",
       "           -0.0035, -0.0027,  0.0019, -0.0049,  0.0013,  0.0072,  0.0019,  0.0011,\n",
       "           -0.0041,  0.0010,  0.0009, -0.0050,  0.0013, -0.0089,  0.0018,  0.0016,\n",
       "            0.0078,  0.0033,  0.0013,  0.0011,  0.0008,  0.0010,  0.0016,  0.0013,\n",
       "           -0.0050, -0.0071,  0.0027,  0.0249,  0.0009,  0.0054,  0.0011,  0.0016,\n",
       "            0.0015, -0.0017, -0.0036, -0.0078, -0.0030,  0.0008, -0.0047,  0.0008,\n",
       "            0.0013, -0.0051, -0.0148,  0.0015,  0.0010,  0.0018,  0.0010,  0.0011,\n",
       "            0.0013,  0.0008, -0.0027,  0.0008,  0.0013, -0.0038]),\n",
       "   'exp_avg_sq': tensor([2.1569e-07, 1.1217e-07, 1.3592e-07, 5.3717e-08, 2.4681e-07, 3.6623e-06,\n",
       "           1.4136e-07, 1.5268e-07, 3.9256e-06, 8.2707e-08, 2.2531e-07, 8.8604e-06,\n",
       "           9.0345e-08, 1.9029e-07, 4.4863e-06, 1.2516e-07, 4.5134e-07, 1.1509e-07,\n",
       "           3.9691e-06, 3.8378e-06, 1.0398e-07, 1.6894e-07, 1.9761e-07, 8.9960e-08,\n",
       "           9.8786e-08, 2.2177e-07, 9.7054e-08, 3.8758e-06, 1.4444e-07, 2.2846e-07,\n",
       "           3.3806e-06, 3.8359e-06, 9.6698e-08, 9.0663e-08, 6.0240e-08, 1.2084e-07,\n",
       "           1.2540e-07, 1.2350e-07, 9.7629e-08, 3.8901e-06, 1.5554e-05, 3.7313e-06,\n",
       "           1.3249e-07, 1.2533e-07, 7.0699e-08, 1.2988e-07, 3.6438e-06, 8.7027e-08,\n",
       "           2.8794e-06, 3.1013e-06, 1.7617e-07, 3.4022e-06, 1.3421e-07, 1.1731e-05,\n",
       "           2.0620e-07, 8.4641e-08, 7.7571e-06, 8.7209e-08, 6.3678e-08, 3.9215e-06,\n",
       "           1.1545e-07, 5.5220e-06, 1.7816e-07, 2.3126e-07, 1.7847e-05, 8.0730e-06,\n",
       "           1.3645e-07, 1.1547e-07, 6.0397e-08, 1.0530e-07, 1.2679e-07, 9.2760e-08,\n",
       "           3.9103e-06, 5.4526e-06, 3.0940e-07, 1.6456e-04, 8.7878e-08, 8.4410e-06,\n",
       "           1.1803e-07, 1.2460e-07, 1.5435e-07, 3.1068e-06, 3.6940e-06, 1.5589e-05,\n",
       "           3.0958e-06, 6.3620e-08, 3.8221e-06, 8.2781e-08, 1.3353e-07, 3.9764e-06,\n",
       "           1.4135e-05, 1.3765e-07, 9.4024e-08, 1.7819e-07, 8.1614e-08, 1.0174e-07,\n",
       "           9.5943e-08, 6.0248e-08, 3.6252e-06, 8.0556e-08, 1.3348e-05, 3.5936e-06])}},\n",
       " 'param_groups': [{'lr': 0.001,\n",
       "   'betas': (0.9, 0.999),\n",
       "   'eps': 1e-08,\n",
       "   'weight_decay': 0,\n",
       "   'amsgrad': False,\n",
       "   'maximize': False,\n",
       "   'foreach': None,\n",
       "   'capturable': False,\n",
       "   'differentiable': False,\n",
       "   'fused': None,\n",
       "   'params': [0, 1, 2, 3]}]}"
      ]
     },
     "execution_count": 32,
     "metadata": {},
     "output_type": "execute_result"
    }
   ],
   "source": [
    "optimizer.state_dict()"
   ]
  },
  {
   "cell_type": "markdown",
   "metadata": {},
   "source": [
    "## Save the checkpoint\n",
    "\n",
    "Now that your network is trained, save the model so you can load it later for making predictions. You probably want to save other things such as the mapping of classes to indices which you get from one of the image datasets: `image_datasets['train'].class_to_idx`. You can attach this to the model as an attribute which makes inference easier later on.\n",
    "\n",
    "```model.class_to_idx = image_datasets['train'].class_to_idx```\n",
    "\n",
    "Remember that you'll want to completely rebuild the model later so you can use it for inference. Make sure to include any information you need in the checkpoint. If you want to load the model and keep training, you'll want to save the number of epochs as well as the optimizer state, `optimizer.state_dict`. You'll likely want to use this trained model in the next part of the project, so best to save it now."
   ]
  },
  {
   "cell_type": "code",
   "execution_count": 29,
   "metadata": {},
   "outputs": [],
   "source": [
    "# TODO: Save the checkpoint \n",
    "model.class_to_idx = image_datasets[0].class_to_idx\n",
    "\n",
    "chk_point = {\n",
    "    'architecture':\"vgg19\",\n",
    "    'hidden_units':hidden_units,\n",
    "    'model_state_dict': model.state_dict(),\n",
    "    'optimizer_state_dict': optimizer.state_dict(),\n",
    "    'epochs': 5,\n",
    "    'class_to_idx': image_datasets[0].class_to_idx\n",
    "}\n",
    "\n",
    "torch.save(chk_point, 'checkpoint.pth')"
   ]
  },
  {
   "cell_type": "markdown",
   "metadata": {},
   "source": [
    "## Loading the checkpoint\n",
    "\n",
    "At this point it's good to write a function that can load a checkpoint and rebuild the model. That way you can come back to this project and keep working on it without having to retrain the network."
   ]
  },
  {
   "cell_type": "code",
   "execution_count": 31,
   "metadata": {},
   "outputs": [
    {
     "data": {
      "text/plain": [
       "VGG(\n",
       "  (features): Sequential(\n",
       "    (0): Conv2d(3, 64, kernel_size=(3, 3), stride=(1, 1), padding=(1, 1))\n",
       "    (1): ReLU(inplace=True)\n",
       "    (2): Conv2d(64, 64, kernel_size=(3, 3), stride=(1, 1), padding=(1, 1))\n",
       "    (3): ReLU(inplace=True)\n",
       "    (4): MaxPool2d(kernel_size=2, stride=2, padding=0, dilation=1, ceil_mode=False)\n",
       "    (5): Conv2d(64, 128, kernel_size=(3, 3), stride=(1, 1), padding=(1, 1))\n",
       "    (6): ReLU(inplace=True)\n",
       "    (7): Conv2d(128, 128, kernel_size=(3, 3), stride=(1, 1), padding=(1, 1))\n",
       "    (8): ReLU(inplace=True)\n",
       "    (9): MaxPool2d(kernel_size=2, stride=2, padding=0, dilation=1, ceil_mode=False)\n",
       "    (10): Conv2d(128, 256, kernel_size=(3, 3), stride=(1, 1), padding=(1, 1))\n",
       "    (11): ReLU(inplace=True)\n",
       "    (12): Conv2d(256, 256, kernel_size=(3, 3), stride=(1, 1), padding=(1, 1))\n",
       "    (13): ReLU(inplace=True)\n",
       "    (14): Conv2d(256, 256, kernel_size=(3, 3), stride=(1, 1), padding=(1, 1))\n",
       "    (15): ReLU(inplace=True)\n",
       "    (16): Conv2d(256, 256, kernel_size=(3, 3), stride=(1, 1), padding=(1, 1))\n",
       "    (17): ReLU(inplace=True)\n",
       "    (18): MaxPool2d(kernel_size=2, stride=2, padding=0, dilation=1, ceil_mode=False)\n",
       "    (19): Conv2d(256, 512, kernel_size=(3, 3), stride=(1, 1), padding=(1, 1))\n",
       "    (20): ReLU(inplace=True)\n",
       "    (21): Conv2d(512, 512, kernel_size=(3, 3), stride=(1, 1), padding=(1, 1))\n",
       "    (22): ReLU(inplace=True)\n",
       "    (23): Conv2d(512, 512, kernel_size=(3, 3), stride=(1, 1), padding=(1, 1))\n",
       "    (24): ReLU(inplace=True)\n",
       "    (25): Conv2d(512, 512, kernel_size=(3, 3), stride=(1, 1), padding=(1, 1))\n",
       "    (26): ReLU(inplace=True)\n",
       "    (27): MaxPool2d(kernel_size=2, stride=2, padding=0, dilation=1, ceil_mode=False)\n",
       "    (28): Conv2d(512, 512, kernel_size=(3, 3), stride=(1, 1), padding=(1, 1))\n",
       "    (29): ReLU(inplace=True)\n",
       "    (30): Conv2d(512, 512, kernel_size=(3, 3), stride=(1, 1), padding=(1, 1))\n",
       "    (31): ReLU(inplace=True)\n",
       "    (32): Conv2d(512, 512, kernel_size=(3, 3), stride=(1, 1), padding=(1, 1))\n",
       "    (33): ReLU(inplace=True)\n",
       "    (34): Conv2d(512, 512, kernel_size=(3, 3), stride=(1, 1), padding=(1, 1))\n",
       "    (35): ReLU(inplace=True)\n",
       "    (36): MaxPool2d(kernel_size=2, stride=2, padding=0, dilation=1, ceil_mode=False)\n",
       "  )\n",
       "  (avgpool): AdaptiveAvgPool2d(output_size=(7, 7))\n",
       "  (classifier): Sequential(\n",
       "    (0): Linear(in_features=25088, out_features=512, bias=True)\n",
       "    (1): ReLU()\n",
       "    (2): Dropout(p=0.3, inplace=False)\n",
       "    (3): Linear(in_features=512, out_features=102, bias=True)\n",
       "    (4): LogSoftmax(dim=1)\n",
       "  )\n",
       ")"
      ]
     },
     "execution_count": 31,
     "metadata": {},
     "output_type": "execute_result"
    }
   ],
   "source": [
    "# TODO: Write a function that loads a checkpoint and rebuilds the model\n",
    "def build_classifier(hidden_units):\n",
    "    classifier= nn.Sequential(\n",
    "        nn.Linear(25088, hidden_units),\n",
    "        nn.ReLU(),\n",
    "        nn.Dropout(p=0.3),\n",
    "        nn.Linear(hidden_units, 102),\n",
    "        nn.LogSoftmax(dim=1)\n",
    "    )\n",
    "    return classifier\n",
    "\n",
    "\n",
    "def load_model(path):\n",
    "    chk_point = torch.load(path, map_location=torch.device('cpu'))\n",
    "    arch=chk_point['architecture']\n",
    "    hidden_units=chk_point['hidden_units']\n",
    "    model=models.vgg19(pretrained=True)\n",
    "    model.classifier=build_classifier(hidden_units)\n",
    "    model.load_state_dict(chk_point['model_state_dict'])\n",
    "    model.class_to_idx = chk_point['class_to_idx'] \n",
    "    return model\n",
    "model=load_model(\"checkpoint.pth\")\n",
    "model\n"
   ]
  },
  {
   "cell_type": "markdown",
   "metadata": {},
   "source": [
    "# Inference for classification\n",
    "\n",
    "Now you'll write a function to use a trained network for inference. That is, you'll pass an image into the network and predict the class of the flower in the image. Write a function called `predict` that takes an image and a model, then returns the top $K$ most likely classes along with the probabilities. It should look like \n",
    "\n",
    "```python\n",
    "probs, classes = predict(image_path, model)\n",
    "print(probs)\n",
    "print(classes)\n",
    "> [ 0.01558163  0.01541934  0.01452626  0.01443549  0.01407339]\n",
    "> ['70', '3', '45', '62', '55']\n",
    "```\n",
    "\n",
    "First you'll need to handle processing the input image such that it can be used in your network. \n",
    "\n",
    "## Image Preprocessing\n",
    "\n",
    "You'll want to use `PIL` to load the image ([documentation](https://pillow.readthedocs.io/en/latest/reference/Image.html)). It's best to write a function that preprocesses the image so it can be used as input for the model. This function should process the images in the same manner used for training. \n",
    "\n",
    "First, resize the images where the shortest side is 256 pixels, keeping the aspect ratio. This can be done with the [`thumbnail`](http://pillow.readthedocs.io/en/3.1.x/reference/Image.html#PIL.Image.Image.thumbnail) or [`resize`](http://pillow.readthedocs.io/en/3.1.x/reference/Image.html#PIL.Image.Image.thumbnail) methods. Then you'll need to crop out the center 224x224 portion of the image.\n",
    "\n",
    "Color channels of images are typically encoded as integers 0-255, but the model expected floats 0-1. You'll need to convert the values. It's easiest with a Numpy array, which you can get from a PIL image like so `np_image = np.array(pil_image)`.\n",
    "\n",
    "As before, the network expects the images to be normalized in a specific way. For the means, it's `[0.485, 0.456, 0.406]` and for the standard deviations `[0.229, 0.224, 0.225]`. You'll want to subtract the means from each color channel, then divide by the standard deviation. \n",
    "\n",
    "And finally, PyTorch expects the color channel to be the first dimension but it's the third dimension in the PIL image and Numpy array. You can reorder dimensions using [`ndarray.transpose`](https://docs.scipy.org/doc/numpy-1.13.0/reference/generated/numpy.ndarray.transpose.html). The color channel needs to be first and retain the order of the other two dimensions."
   ]
  },
  {
   "cell_type": "code",
   "execution_count": 44,
   "metadata": {},
   "outputs": [
    {
     "name": "stdout",
     "output_type": "stream",
     "text": [
      "tensor([[[-2.1179, -2.1179, -2.1179,  ..., -2.1179, -2.1179, -2.1179],\n",
      "         [-2.1179, -2.1179, -2.1179,  ..., -2.1179, -2.1179, -2.1179],\n",
      "         [-2.1179, -2.1179, -2.1179,  ..., -2.1179, -2.1179, -2.1179],\n",
      "         ...,\n",
      "         [-2.1179, -2.1179, -2.1179,  ..., -2.1179, -2.1179, -2.1179],\n",
      "         [-2.1179, -2.1179, -2.1179,  ..., -2.1179, -2.1179, -2.1179],\n",
      "         [-2.1179, -2.1179, -2.1179,  ..., -2.1179, -2.1179, -2.1179]],\n",
      "\n",
      "        [[-2.0007, -2.0007, -2.0007,  ..., -2.0357, -2.0357, -2.0357],\n",
      "         [-2.0007, -2.0007, -2.0007,  ..., -2.0357, -2.0357, -2.0357],\n",
      "         [-2.0007, -2.0007, -2.0007,  ..., -2.0357, -2.0357, -2.0357],\n",
      "         ...,\n",
      "         [-2.0357, -2.0357, -2.0357,  ..., -2.0357, -2.0357, -2.0357],\n",
      "         [-2.0357, -2.0357, -2.0357,  ..., -2.0357, -2.0357, -2.0357],\n",
      "         [-2.0357, -2.0357, -2.0357,  ..., -2.0357, -2.0357, -2.0357]],\n",
      "\n",
      "        [[-1.7870, -1.7870, -1.7870,  ..., -1.8044, -1.8044, -1.8044],\n",
      "         [-1.7870, -1.7870, -1.7870,  ..., -1.8044, -1.8044, -1.8044],\n",
      "         [-1.7870, -1.7870, -1.7870,  ..., -1.8044, -1.8044, -1.8044],\n",
      "         ...,\n",
      "         [-1.8044, -1.8044, -1.8044,  ..., -1.8044, -1.8044, -1.8044],\n",
      "         [-1.8044, -1.8044, -1.8044,  ..., -1.8044, -1.8044, -1.8044],\n",
      "         [-1.8044, -1.8044, -1.8044,  ..., -1.8044, -1.8044, -1.8044]]])\n"
     ]
    }
   ],
   "source": [
    "from PIL import Image\n",
    "import numpy as np\n",
    "import torch\n",
    "\n",
    "def process_image(image):\n",
    "    ''' Scales, crops, and normalizes a PIL image for a PyTorch model,\n",
    "        returns a Numpy array\n",
    "    '''\n",
    "    pil_image = Image.open(image)\n",
    "    \n",
    "    # Resize\n",
    "    pil_image = pil_image.resize((256, 256))\n",
    "    \n",
    "    # Center crop\n",
    "    width, height = pil_image.size\n",
    "    new_width, new_height = 224, 224\n",
    "    left = (width - new_width) / 2\n",
    "    top = (height - new_height) / 2\n",
    "    right = (width + new_width) / 2\n",
    "    bottom = (height + new_height) / 2\n",
    "    pil_image = pil_image.crop((left, top, right, bottom))\n",
    "    \n",
    "    np_image = np.array(pil_image) / 255.0\n",
    "    \n",
    "    mean = np.array([0.485, 0.456, 0.406])\n",
    "    std = np.array([0.229, 0.224, 0.225])\n",
    "    \n",
    "    np_image = (np_image - mean) / std\n",
    "    \n",
    "    # Transpose color channels to meet PyTorch's expectation\n",
    "    np_image = np_image.transpose((2, 0, 1))\n",
    "    \n",
    "    tensor = torch.from_numpy(np_image)\n",
    "    tensor = tensor.type(torch.FloatTensor)\n",
    "   \n",
    "    return tensor\n",
    "\n",
    "print(process_image(\"./flowers/test/2/image_05100.jpg\"))\n",
    "\n"
   ]
  },
  {
   "cell_type": "markdown",
   "metadata": {},
   "source": [
    "To check your work, the function below converts a PyTorch tensor and displays it in the notebook. If your `process_image` function works, running the output through this function should return the original image (except for the cropped out portions)."
   ]
  },
  {
   "cell_type": "code",
   "execution_count": 45,
   "metadata": {},
   "outputs": [],
   "source": [
    "import matplotlib.pyplot as plt\n",
    "def imshow(image, ax=None, title=None):\n",
    "    \"\"\"Imshow for Tensor.\"\"\"\n",
    "    if ax is None:\n",
    "        fig, ax = plt.subplots()\n",
    "    \n",
    "    # PyTorch tensors assume the color channel is the first dimension\n",
    "    # but matplotlib assumes is the third dimension\n",
    "    image = image.numpy().transpose((1, 2, 0))\n",
    "    \n",
    "    # Undo preprocessing\n",
    "    mean = np.array([0.485, 0.456, 0.406])\n",
    "    std = np.array([0.229, 0.224, 0.225])\n",
    "    image = std * image + mean\n",
    "    \n",
    "    # Image needs to be clipped between 0 and 1 or it looks like noise when displayed\n",
    "    image = np.clip(image, 0, 1)\n",
    "    \n",
    "    ax.imshow(image)\n",
    "    \n",
    "    return ax"
   ]
  },
  {
   "cell_type": "markdown",
   "metadata": {},
   "source": [
    "## Class Prediction\n",
    "\n",
    "Once you can get images in the correct format, it's time to write a function for making predictions with your model. A common practice is to predict the top 5 or so (usually called top-$K$) most probable classes. You'll want to calculate the class probabilities then find the $K$ largest values.\n",
    "\n",
    "To get the top $K$ largest values in a tensor use [`x.topk(k)`](http://pytorch.org/docs/master/torch.html#torch.topk). This method returns both the highest `k` probabilities and the indices of those probabilities corresponding to the classes. You need to convert from these indices to the actual class labels using `class_to_idx` which hopefully you added to the model or from an `ImageFolder` you used to load the data ([see here](#Save-the-checkpoint)). Make sure to invert the dictionary so you get a mapping from index to class as well.\n",
    "\n",
    "Again, this method should take a path to an image and a model checkpoint, then return the probabilities and classes.\n",
    "\n",
    "```python\n",
    "probs, classes = predict(image_path, model)\n",
    "print(probs)\n",
    "print(classes)\n",
    "> [ 0.01558163  0.01541934  0.01452626  0.01443549  0.01407339]\n",
    "> ['70', '3', '45', '62', '55']\n",
    "```"
   ]
  },
  {
   "cell_type": "code",
   "execution_count": 46,
   "metadata": {},
   "outputs": [
    {
     "name": "stdout",
     "output_type": "stream",
     "text": [
      "tensor([[[-2.1179, -2.1179, -2.1179,  ..., -2.1179, -2.1179, -2.1179],\n",
      "         [-2.1179, -2.1179, -2.1179,  ..., -2.1179, -2.1179, -2.1179],\n",
      "         [-2.1179, -2.1179, -2.1179,  ..., -2.1179, -2.1179, -2.1179],\n",
      "         ...,\n",
      "         [-2.1179, -2.1179, -2.1179,  ..., -2.1179, -2.1179, -2.1179],\n",
      "         [-2.1179, -2.1179, -2.1179,  ..., -2.1179, -2.1179, -2.1179],\n",
      "         [-2.1179, -2.1179, -2.1179,  ..., -2.1179, -2.1179, -2.1179]],\n",
      "\n",
      "        [[-2.0007, -2.0007, -2.0007,  ..., -2.0357, -2.0357, -2.0357],\n",
      "         [-2.0007, -2.0007, -2.0007,  ..., -2.0357, -2.0357, -2.0357],\n",
      "         [-2.0007, -2.0007, -2.0007,  ..., -2.0357, -2.0357, -2.0357],\n",
      "         ...,\n",
      "         [-2.0357, -2.0357, -2.0357,  ..., -2.0357, -2.0357, -2.0357],\n",
      "         [-2.0357, -2.0357, -2.0357,  ..., -2.0357, -2.0357, -2.0357],\n",
      "         [-2.0357, -2.0357, -2.0357,  ..., -2.0357, -2.0357, -2.0357]],\n",
      "\n",
      "        [[-1.7870, -1.7870, -1.7870,  ..., -1.8044, -1.8044, -1.8044],\n",
      "         [-1.7870, -1.7870, -1.7870,  ..., -1.8044, -1.8044, -1.8044],\n",
      "         [-1.7870, -1.7870, -1.7870,  ..., -1.8044, -1.8044, -1.8044],\n",
      "         ...,\n",
      "         [-1.8044, -1.8044, -1.8044,  ..., -1.8044, -1.8044, -1.8044],\n",
      "         [-1.8044, -1.8044, -1.8044,  ..., -1.8044, -1.8044, -1.8044],\n",
      "         [-1.8044, -1.8044, -1.8044,  ..., -1.8044, -1.8044, -1.8044]]])\n"
     ]
    }
   ],
   "source": [
    "from PIL import Image\n",
    "import numpy as np\n",
    "import torch\n",
    "\n",
    "def process_image(image):\n",
    "    ''' Scales, crops, and normalizes a PIL image for a PyTorch model,\n",
    "        returns a Numpy array\n",
    "    '''\n",
    "    pil_image = Image.open(image)\n",
    "    \n",
    "    # Resize\n",
    "    pil_image = pil_image.resize((256, 256))\n",
    "    \n",
    "    # Center crop\n",
    "    width, height = pil_image.size\n",
    "    new_width, new_height = 224, 224\n",
    "    left = (width - new_width) / 2\n",
    "    top = (height - new_height) / 2\n",
    "    right = (width + new_width) / 2\n",
    "    bottom = (height + new_height) / 2\n",
    "    pil_image = pil_image.crop((left, top, right, bottom))\n",
    "    \n",
    "    np_image = np.array(pil_image) / 255.0\n",
    "    \n",
    "    mean = np.array([0.485, 0.456, 0.406])\n",
    "    std = np.array([0.229, 0.224, 0.225])\n",
    "    \n",
    "    np_image = (np_image - mean) / std\n",
    "    \n",
    "    # Transpose color channels to meet PyTorch's expectation\n",
    "    np_image = np_image.transpose((2, 0, 1))\n",
    "    \n",
    "    tensor = torch.from_numpy(np_image)\n",
    "    tensor = tensor.type(torch.FloatTensor)\n",
    "   \n",
    "    return tensor\n",
    "\n",
    "print(process_image('./flowers/test/2/image_05100.jpg'))\n"
   ]
  },
  {
   "cell_type": "markdown",
   "metadata": {},
   "source": [
    "## Sanity Checking\n",
    "\n",
    "Now that you can use a trained model for predictions, check to make sure it makes sense. Even if the testing accuracy is high, it's always good to check that there aren't obvious bugs. Use `matplotlib` to plot the probabilities for the top 5 classes as a bar graph, along with the input image. It should look like this:\n",
    "\n",
    "<img src='assets/inference_example.png' width=300px>\n",
    "\n",
    "You can convert from the class integer encoding to actual flower names with the `cat_to_name.json` file (should have been loaded earlier in the notebook). To show a PyTorch tensor as an image, use the `imshow` function defined above."
   ]
  },
  {
   "cell_type": "code",
   "execution_count": 47,
   "metadata": {},
   "outputs": [
    {
     "name": "stdout",
     "output_type": "stream",
     "text": [
      "torch.Size([1, 3, 224, 224])\n"
     ]
    },
    {
     "data": {
      "image/png": "[encoded data removed]",
      "text/plain": [
       "<Figure size 640x480 with 1 Axes>"
      ]
     },
     "metadata": {},
     "output_type": "display_data"
    },
    {
     "data": {
      "text/plain": [
       "<Axes: >"
      ]
     },
     "execution_count": 47,
     "metadata": {},
     "output_type": "execute_result"
    },
    {
     "data": {
      "image/png": "[encoded data removed]",
      "text/plain": [
       "<Figure size 640x480 with 1 Axes>"
      ]
     },
     "metadata": {},
     "output_type": "display_data"
    }
   ],
   "source": [
    "# TODO: Display an image along with the top 5 classes\n",
    "image_path=\"./flowers/test/2/image_05100.jpg\"\n",
    "image = process_image(image_path)\n",
    "\n",
    "top_ps,top_cls=predict(image_path, model,5)\n",
    "\n",
    "top_cls_indices = top_cls[0].tolist()\n",
    "\n",
    "top_cls_names = [cat_to_name[str(index)] for index in top_cls_indices]\n",
    "\n",
    "plt.barh(top_cls_names, top_ps[0])\n",
    "plt.show()\n",
    "imshow(image)"
   ]
  },
  {
   "cell_type": "markdown",
   "metadata": {},
   "source": [
    "## Reminder for Workspace users\n",
    "If your network becomes very large when saved as a checkpoint, there might be issues with saving backups in your workspace. You should reduce the size of your hidden layers and train again. \n",
    "    \n",
    "We strongly encourage you to delete these large interim files and directories before navigating to another page or closing the browser tab."
   ]
  },
  {
   "cell_type": "code",
   "execution_count": 36,
   "metadata": {},
   "outputs": [],
   "source": [
    "# TODO remove .pth files or move it to a temporary `~/opt` directory in this Workspace\n"
   ]
  },
  {
   "cell_type": "code",
   "execution_count": null,
   "metadata": {},
   "outputs": [],
   "source": []
  }
 ],
 "metadata": {
  "kernelspec": {
   "display_name": "Python 3 (ipykernel)",
   "language": "python",
   "name": "python3"
  },
  "language_info": {
   "codemirror_mode": {
    "name": "ipython",
    "version": 3
   },
   "file_extension": ".py",
   "mimetype": "text/x-python",
   "name": "python",
   "nbconvert_exporter": "python",
   "pygments_lexer": "ipython3",
   "version": "3.10.11"
  }
 },
 "nbformat": 4,
 "nbformat_minor": 2
}
